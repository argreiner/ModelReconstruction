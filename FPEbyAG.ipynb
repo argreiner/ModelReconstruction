{
 "cells": [
  {
   "cell_type": "markdown",
   "metadata": {},
   "source": [
    "# Numerical solution of the Fokker-Planck Equation"
   ]
  },
  {
   "cell_type": "code",
   "execution_count": 1,
   "metadata": {},
   "outputs": [],
   "source": [
    "import matplotlib.pyplot as plt\n",
    "import numpy as np"
   ]
  },
  {
   "cell_type": "markdown",
   "metadata": {},
   "source": [
    "#### The Fokker Planck equation for the phase space probability distribution of the noisy van der Pol oscillator reads\n",
    "$$\n",
    "\\frac{\\partial w(\\xi_i,t)}{\\partial t}=-\\frac{\\partial}{\\partial\\xi_i}D_iw(\\xi_i,t)+\n",
    "D_{ij}\\frac{\\partial^2 w(\\xi_i,t)}{\\partial\\xi_i\\partial\\xi_j}\n",
    "$$\n",
    "with the vector $\\mathbf{\\xi}=(x,v)^T$ and\n",
    "\\begin{align}\n",
    "D_x^{(1)}=v\\\\\n",
    "D_v^{(1)}=(2-x^2)v-x-\\gamma v\\\\\n",
    "D_vv^{(1)}=g\\\\\n",
    "\\end{align}\n",
    "where the nonliearity $(2-x^2)v$ was taken form Gradisek, J et. al PRE 62, 3146"
   ]
  },
  {
   "cell_type": "code",
   "execution_count": 2,
   "metadata": {},
   "outputs": [],
   "source": [
    "# 1st derivative w.r.t. x\n",
    "def dwdx(m):\n",
    "    return (np.roll(m,shift=(-1,0),axis=(1,0))-np.roll(m,shift=(1,0),axis=(1,0)))/2.\n",
    "# 1st central derivative w.r.t. v\n",
    "def dwdv(m):\n",
    "    return (np.roll(m,shift=(0,-1),axis=(1,0))-np.roll(m,shift=(0,1),axis=(1,0)))/2.\n",
    "# 2nd derivative w.r.t. x\n",
    "def d2wdx2(m):\n",
    "    return np.roll(m,shift=(-1,0),axis=(1,0))-2.0*m+np.roll(m,shift=(1,0),axis=(1,0))\n",
    "# 2nd derivative w.r.t. v\n",
    "def d2wdv2(m):\n",
    "    return np.roll(m,shift=(0,-1),axis=(1,0))-2.0*m+np.roll(m,shift=(0,1),axis=(1,0))\n",
    "# mixed 2nd derivative\n",
    "def d2wdxdv(m):\n",
    "    return np.roll(m,shift=(-1,-1),axis=(1,0))+np.roll(m,shift=(-1,1),axis=(1,0))-np.roll(m,shift=(1,1),axis=(1,0))-np.roll(m,shift=(1,-1),axis=(1,0))"
   ]
  },
  {
   "cell_type": "markdown",
   "metadata": {},
   "source": [
    "#### In the case of a van der Pol oscillator we have\n",
    "$$\n",
    "\\frac{\\partial w(x,v,t)}{\\partial t}=-(2-x^2)w(x,v,t)-v\\frac{\\partial w(x,v,t)}{\\partial x}+\n",
    "(x-(2-x^2)v)\\frac{\\partial w(x,v,t)}{\\partial v}+\n",
    "g\\frac{\\partial^2 w(x,v,t)}{\\partial v^2}\n",
    "$$\n",
    "In terms of finite differences with Euler forward we have\n",
    "$$\n",
    "w(x,v,t+\\Delta t)=\n",
    "(1-(2-x^2)\\Delta t)\\cdot w(x,v,t)\n",
    "-v\\frac{w(x+\\Delta x,v,t)-w(x-\\Delta x,v,t)}{2\\Delta x}\\Delta t\n",
    "+(x-(2-x^2)v)\\frac{w(x,v+\\Delta v,t)-w(x,v-\\Delta v,t)}{2\\Delta v} \\Delta t\n",
    "+g\\frac{w(x,v+\\Delta v,t)-2\\cdot w(x,v,t)+w(x,v-\\Delta v,t)}{\\Delta v^2}\\Delta t\n",
    "$$"
   ]
  },
  {
   "cell_type": "code",
   "execution_count": 7,
   "metadata": {},
   "outputs": [
    {
     "data": {
      "text/plain": [
       "<matplotlib.image.AxesImage at 0x7ffaf8a90810>"
      ]
     },
     "execution_count": 7,
     "metadata": {},
     "output_type": "execute_result"
    },
    {
     "data": {
      "image/png": "[encoded data removed]",
      "text/plain": [
       "<Figure size 432x288 with 1 Axes>"
      ]
     },
     "metadata": {
      "needs_background": "light"
     },
     "output_type": "display_data"
    }
   ],
   "source": [
    "x,v=np.meshgrid(np.linspace(-1000,1000,2001),np.linspace(-1000,1000,2001))\n",
    "wxv=np.zeros((2001,2001))\n",
    "wxv[1101:1151,1101:1151]=1.0\n",
    "plt.imshow(wxv)"
   ]
  },
  {
   "cell_type": "code",
   "execution_count": 11,
   "metadata": {},
   "outputs": [
    {
     "name": "stderr",
     "output_type": "stream",
     "text": [
      "/Users/greiner/miniconda3/lib/python3.7/site-packages/ipykernel_launcher.py:11: RuntimeWarning: overflow encountered in multiply\n",
      "  # This is added back by InteractiveShellApp.init_path()\n",
      "/Users/greiner/miniconda3/lib/python3.7/site-packages/ipykernel_launcher.py:3: RuntimeWarning: invalid value encountered in subtract\n",
      "  This is separate from the ipykernel package so we can avoid doing imports until\n",
      "/Users/greiner/miniconda3/lib/python3.7/site-packages/ipykernel_launcher.py:11: RuntimeWarning: invalid value encountered in subtract\n",
      "  # This is added back by InteractiveShellApp.init_path()\n",
      "/Users/greiner/miniconda3/lib/python3.7/site-packages/ipykernel_launcher.py:11: RuntimeWarning: invalid value encountered in add\n",
      "  # This is added back by InteractiveShellApp.init_path()\n",
      "/Users/greiner/miniconda3/lib/python3.7/site-packages/ipykernel_launcher.py:12: RuntimeWarning: invalid value encountered in subtract\n",
      "  if sys.path[0] == '':\n",
      "/Users/greiner/miniconda3/lib/python3.7/site-packages/ipykernel_launcher.py:12: RuntimeWarning: invalid value encountered in add\n",
      "  if sys.path[0] == '':\n",
      "/Users/greiner/miniconda3/lib/python3.7/site-packages/ipykernel_launcher.py:11: RuntimeWarning: invalid value encountered in multiply\n",
      "  # This is added back by InteractiveShellApp.init_path()\n",
      "/Users/greiner/miniconda3/lib/python3.7/site-packages/ipykernel_launcher.py:6: RuntimeWarning: invalid value encountered in subtract\n",
      "  \n"
     ]
    },
    {
     "data": {
      "text/plain": [
       "<matplotlib.image.AxesImage at 0x7ffae2e2de90>"
      ]
     },
     "execution_count": 11,
     "metadata": {},
     "output_type": "execute_result"
    },
    {
     "data": {
      "image/png": "[encoded data removed]",
      "text/plain": [
       "<Figure size 432x288 with 1 Axes>"
      ]
     },
     "metadata": {
      "needs_background": "light"
     },
     "output_type": "display_data"
    }
   ],
   "source": [
    "dt=.0001 # timestep\n",
    "c=1.0    # diffusion constant\n",
    "#\n",
    "xsq=x*x\n",
    "xsqv=x*x*v\n",
    "#\n",
    "for i in np.arange(100):\n",
    "    wxv[1:-2,1:-2]=(wxv-(2-xsq)*wxv*dt\n",
    "                    -v*dwdx(wxv)*dt\n",
    "                    +(x-2*v+xsqv))*dwdv(wxv)*dt\n",
    "                    +c*d2wdv2(wxv)*dt)[1:-2,1:-2]\n",
    "plt.imshow(wxv)"
   ]
  },
  {
   "cell_type": "code",
   "execution_count": 10,
   "metadata": {},
   "outputs": [
    {
     "data": {
      "text/plain": [
       "2.4628414870822224e+254"
      ]
     },
     "execution_count": 10,
     "metadata": {},
     "output_type": "execute_result"
    }
   ],
   "source": [
    "wxv.max()"
   ]
  },
  {
   "cell_type": "code",
   "execution_count": null,
   "metadata": {},
   "outputs": [],
   "source": []
  }
 ],
 "metadata": {
  "kernelspec": {
   "display_name": "Python 3",
   "language": "python",
   "name": "python3"
  },
  "language_info": {
   "codemirror_mode": {
    "name": "ipython",
    "version": 3
   },
   "file_extension": ".py",
   "mimetype": "text/x-python",
   "name": "python",
   "nbconvert_exporter": "python",
   "pygments_lexer": "ipython3",
   "version": "3.7.6"
  }
 },
 "nbformat": 4,
 "nbformat_minor": 4
}
