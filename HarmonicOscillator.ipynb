{
 "cells": [
  {
   "cell_type": "code",
   "execution_count": null,
   "metadata": {},
   "outputs": [],
   "source": [
    "import numpy as np\n",
    "import matplotlib.pyplot as plt\n",
    "from scipy.optimize import curve_fit\n",
    "from scipy import special\n",
    "from scipy.integrate import solve_ivp"
   ]
  },
  {
   "cell_type": "code",
   "execution_count": null,
   "metadata": {},
   "outputs": [],
   "source": [
    "# Define the function to deliver the r.h.s. of the system\n",
    "def f(t,y):\n",
    "    return y[1],-y[0]\n",
    "# This is the place to insert other DE-Systems. Maybe try van der Pol.\n",
    "#\n",
    "# Integrate dy/dt=f(t,y)\n",
    "teval=np.linspace(0.,10.,1000)\n",
    "sol=solve_ivp(f, [0, 10], [1, 0],t_eval=teval)"
   ]
  },
  {
   "cell_type": "code",
   "execution_count": null,
   "metadata": {},
   "outputs": [],
   "source": [
    "%matplotlib notebook\n",
    "# plot the solutions curves (x,v)\n",
    "x=sol.y[0]\n",
    "v=sol.y[1]\n",
    "plt.plot(x)\n",
    "plt.plot(v)"
   ]
  },
  {
   "cell_type": "code",
   "execution_count": null,
   "metadata": {},
   "outputs": [],
   "source": [
    "# Calculate the time derivatives of x and v\n",
    "dt=0.01    # This here is crucial. Don't forget to consistently change if you fiddle around with that\n",
    "xdot=np.gradient(x,dt,edge_order=2)\n",
    "vdot=np.gradient(v,dt,edge_order=2)\n",
    "t=sol.t.shape\n",
    "p0=np.ones(6)"
   ]
  },
  {
   "cell_type": "code",
   "execution_count": null,
   "metadata": {},
   "outputs": [],
   "source": [
    "# Define the fuction xdot and vdot are to be fitted to\n",
    "def fit(XY,*a):        # The variable argument *a\n",
    "    x,v=XY             # Remeber that xdot is in general a function of x and v\n",
    "    return a[0]+a[1]*x+a[2]*v+a[3]*x**2+a[4]*x*v+a[5]*v**2\n",
    "#\n",
    "# Define the fuction for the integration routine, this is for checking the result, or in the future for\n",
    "# calculating ahead of the time series and doing a forecast. This function takes two sets of parameters.\n",
    "# One for xdot and one for vdot, we call it a and b\n",
    "def func(t,XY,*argv):\n",
    "    a=argv[0]\n",
    "    b=argv[1]\n",
    "    x,y=XY\n",
    "    #a=args[0]\n",
    "    return [a[0]+a[1]*x+a[2]*y+a[3]*x**2+a[4]*x*y+a[5]*y**2,b[0]+b[1]*x+b[2]*y+b[3]*x**2+b[4]*x*y+b[5]*y**2]"
   ]
  },
  {
   "cell_type": "code",
   "execution_count": null,
   "metadata": {},
   "outputs": [],
   "source": [
    "%matplotlib notebook\n",
    "# Now we check how good is the reprodction by solving the \n",
    "params=np.zeros((2,6))\n",
    "XY=np.array([x,v])\n",
    "popt,pcov = curve_fit(fit,(x,v),xdot,p0=np.ones(6))\n",
    "p1=popt\n",
    "popt,pcov = curve_fit(fit,(x,v),vdot,p0=np.ones(6))\n",
    "p2=popt\n",
    "params=np.array([p1,p2])\n",
    "teval=np.linspace(0.,10.,1000)\n",
    "solfit=solve_ivp(func, [0, 1000.], [1, 0],t_eval=teval,method='RK45',args=(p1,p2))\n",
    "xfit=solfit.y[0])\n",
    "vfit=solfit.y[1]\n",
    "plt.plot(xfit)\n",
    "plt.plot(vfit)\n",
    "# Tadaaah, wen wundert's, dass rauskommt, was man reinsteckt, hehehehe"
   ]
  },
  {
   "cell_type": "code",
   "execution_count": null,
   "metadata": {},
   "outputs": [],
   "source": [
    "# Und jetzt schauen wir noch die Parameter an, so ganz glücklich bin ich damit noch nicht.\n",
    "print(p1)\n",
    "print(p2)"
   ]
  }
 ],
 "metadata": {
  "kernelspec": {
   "display_name": "Python 3",
   "language": "python",
   "name": "python3"
  },
  "language_info": {
   "codemirror_mode": {
    "name": "ipython",
    "version": 3
   },
   "file_extension": ".py",
   "mimetype": "text/x-python",
   "name": "python",
   "nbconvert_exporter": "python",
   "pygments_lexer": "ipython3",
   "version": "3.7.5"
  }
 },
 "nbformat": 4,
 "nbformat_minor": 2
}
